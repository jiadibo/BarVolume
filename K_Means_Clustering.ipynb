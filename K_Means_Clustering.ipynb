{
  "nbformat": 4,
  "nbformat_minor": 0,
  "metadata": {
    "colab": {
      "name": "K-Means Clustering.ipynb",
      "provenance": [],
      "include_colab_link": true
    },
    "kernelspec": {
      "name": "python3",
      "display_name": "Python 3"
    }
  },
  "cells": [
    {
      "cell_type": "markdown",
      "metadata": {
        "id": "view-in-github",
        "colab_type": "text"
      },
      "source": [
        "<a href=\"https://colab.research.google.com/github/jiadibo/BarVolume/blob/master/K_Means_Clustering.ipynb\" target=\"_parent\"><img src=\"https://colab.research.google.com/assets/colab-badge.svg\" alt=\"Open In Colab\"/></a>"
      ]
    },
    {
      "cell_type": "markdown",
      "metadata": {
        "id": "WgcSq7LZsfDn",
        "colab_type": "text"
      },
      "source": [
        "<img src = \"https://i.imgur.com/XoRDxQJ.png\" align = \"center\">"
      ]
    },
    {
      "cell_type": "markdown",
      "metadata": {
        "id": "gWjA967msiNx",
        "colab_type": "text"
      },
      "source": [
        "###Reference\n",
        "\n",
        "\n",
        "*   https://towardsdatascience.com/machine-learning-algorithms-part-9-k-means-example-in-python-f2ad05ed5203\n",
        "*   https://stackabuse.com/k-means-clustering-with-scikit-learn/\n",
        "\n"
      ]
    },
    {
      "cell_type": "markdown",
      "metadata": {
        "id": "Ra4yQ5Bgs-1F",
        "colab_type": "text"
      },
      "source": [
        "###Introduction\n",
        "\n",
        "K-Means Clustering is an unsupervised machine learning algorithm. In contrast to traditional supervised machine learning algorithms, K-Means attempts to classify data without having first been trained with labeled data.\n",
        "\n",
        "The real world applications of K-Means include:\n",
        "\n",
        "*   customer profiling\n",
        "*   market segmentation\n",
        "*   computer vision\n",
        "*   search engines\n",
        "*   astronomy"
      ]
    },
    {
      "cell_type": "markdown",
      "metadata": {
        "id": "5X8xGkQYt0aZ",
        "colab_type": "text"
      },
      "source": [
        "###How It Works\n",
        "\n",
        "1.   Select K (i.e. 2) random points as cluster centers called centroids\n",
        "![alt text](https://miro.medium.com/max/1610/1*EW-5MNBE3mxHS90KIBEAtQ.png)\n",
        "\n",
        "2.   Assign each data point to the closest cluster by calculating its distance with respect to each centroid\n",
        "![alt text](https://miro.medium.com/max/1590/1*6jruJmmnxtSOj4cuwv91Hg.png)\n",
        "\n",
        "3.  Determine the new cluster center by computing the average of the assigned points\n",
        "![alt text](https://miro.medium.com/max/1584/1*blMy7iRv9R2ceDD2XILjbQ.png)\n",
        "\n",
        "4.  Repeat steps 2 and 3 until none of the cluster assignments change\n",
        "![alt text](https://miro.medium.com/max/1632/1*GVQnG8FnP4L6jbHsO3oWOQ.png)\n",
        "\n"
      ]
    },
    {
      "cell_type": "markdown",
      "metadata": {
        "id": "RYHpl-VgvHYU",
        "colab_type": "text"
      },
      "source": [
        "###Choosing The Right Number of Clusters\n",
        "\n",
        "Although k-means worked well on this toy dataset, it is important to reiterate that a drawback of k-means is that we have to specify the number of clusters, k,before we know what the optimal k is. The number of clusters to choose may not always be so obvious in real-world applications, especially if we are working with a higher dimensional dataset that cannot be visualized.\n",
        "\n",
        "The elbow method is a useful graphical tool to estimate the optimal number of clusters k for a given task. Intuitively, we can say that, if k increases, the within-cluster SSE (“distortion”) will decrease. This is because the samples will be closer to the centroids they are assigned to.\n",
        "The idea behind the elbow method is to identify the value of k where the distortion begins to decrease most rapidly, which will become clearer if we plot the distortion for different values of k:\n",
        "\n",
        "![alt text](https://miro.medium.com/max/677/1*Q9OzABjrHuY1uFIcEe8tlg.png)\n",
        "\n",
        "As we can see in the resulting plot, the elbow is located at k = 3, which is evidence that k = 3 is indeed a good choice for this dataset.\n"
      ]
    },
    {
      "cell_type": "markdown",
      "metadata": {
        "id": "29NK0GAkv2pJ",
        "colab_type": "text"
      },
      "source": [
        "###K-Means Clustering using Scikit-Learn"
      ]
    },
    {
      "cell_type": "code",
      "metadata": {
        "id": "JcDKxz5usS8X",
        "colab_type": "code",
        "colab": {}
      },
      "source": [
        "import numpy as np\n",
        "import pandas as pd\n",
        "from matplotlib import pyplot as plt\n",
        "from sklearn.datasets.samples_generator import make_blobs\n",
        "from sklearn.cluster import KMeans"
      ],
      "execution_count": 0,
      "outputs": []
    },
    {
      "cell_type": "markdown",
      "metadata": {
        "id": "_HAP_DwFwIOc",
        "colab_type": "text"
      },
      "source": [
        "In this tutorial, we will generate our own data using the make_blobs function from the sklearn.datasets module. The centers parameter specifies the number of clusters."
      ]
    },
    {
      "cell_type": "code",
      "metadata": {
        "id": "Gch4z45owBQf",
        "colab_type": "code",
        "outputId": "420828fc-8856-4d2b-efb1-d683408e791d",
        "colab": {
          "base_uri": "https://localhost:8080/",
          "height": 286
        }
      },
      "source": [
        "X, y = make_blobs(n_samples=300, centers=4, cluster_std=0.60, random_state=0)\n",
        "plt.scatter(X[:,0], X[:,1])"
      ],
      "execution_count": 0,
      "outputs": [
        {
          "output_type": "execute_result",
          "data": {
            "text/plain": [
              "<matplotlib.collections.PathCollection at 0x7f32a36ba358>"
            ]
          },
          "metadata": {
            "tags": []
          },
          "execution_count": 2
        },
        {
          "output_type": "display_data",
          "data": {
            "image/png": "[encoded data removed]",
            "text/plain": [
              "<Figure size 432x288 with 1 Axes>"
            ]
          },
          "metadata": {
            "tags": []
          }
        }
      ]
    },
    {
      "cell_type": "markdown",
      "metadata": {
        "id": "bzHZhm6-xFN6",
        "colab_type": "text"
      },
      "source": [
        "####Determining K with Elbow Method\n",
        "\n",
        "To get the values used in the graph, we train multiple models using a different number of clusters and storing the value of the *intertia_* property (WCSS=Within Cluster Sum of Square) every time."
      ]
    },
    {
      "cell_type": "code",
      "metadata": {
        "id": "I_WvdCtfwL0d",
        "colab_type": "code",
        "outputId": "130ebc3d-2128-47f2-bc7f-5ba2a57e294b",
        "colab": {
          "base_uri": "https://localhost:8080/",
          "height": 295
        }
      },
      "source": [
        "wcss = []\n",
        "for i in range(1, 11):\n",
        "    kmeans = KMeans(n_clusters=i, init='k-means++', max_iter=300, n_init=10, random_state=0)\n",
        "    kmeans.fit(X)\n",
        "    wcss.append(kmeans.inertia_)\n",
        "plt.plot(range(1, 11), wcss)\n",
        "plt.title('Elbow Method')\n",
        "plt.xlabel('Number of clusters')\n",
        "plt.ylabel('WCSS')\n",
        "plt.show()"
      ],
      "execution_count": 0,
      "outputs": [
        {
          "output_type": "display_data",
          "data": {
            "image/png": "[encoded data removed]",
            "text/plain": [
              "<Figure size 432x288 with 1 Axes>"
            ]
          },
          "metadata": {
            "tags": []
          }
        }
      ]
    },
    {
      "cell_type": "markdown",
      "metadata": {
        "id": "8fEquLMdxej3",
        "colab_type": "text"
      },
      "source": [
        "Next, we categorize the data using the optimum number of clusters (4) we determined in the last step. k-means++ ensures that we get don’t fall into the random initialization trap."
      ]
    },
    {
      "cell_type": "code",
      "metadata": {
        "id": "AjJfCydlxatz",
        "colab_type": "code",
        "outputId": "f930ac1a-30d4-4513-c8c9-f3d3b97a660e",
        "colab": {
          "base_uri": "https://localhost:8080/",
          "height": 269
        }
      },
      "source": [
        "kmeans = KMeans(n_clusters=4, init='k-means++', max_iter=300, n_init=10, random_state=0)\n",
        "pred_y = kmeans.fit_predict(X)\n",
        "plt.scatter(X[:,0], X[:,1])\n",
        "plt.scatter(kmeans.cluster_centers_[:, 0], kmeans.cluster_centers_[:, 1], s=300, c='red')\n",
        "plt.show()"
      ],
      "execution_count": 0,
      "outputs": [
        {
          "output_type": "display_data",
          "data": {
            "image/png": "[encoded data removed]",
            "text/plain": [
              "<Figure size 432x288 with 1 Axes>"
            ]
          },
          "metadata": {
            "tags": []
          }
        }
      ]
    }
  ]
}